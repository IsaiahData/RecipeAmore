{
 "cells": [
  {
   "cell_type": "markdown",
   "metadata": {},
   "source": [
    "### Do you have data fully in hand and if not, what blockers are you facing?  \n",
    "  \n",
    "No. My blockers were typical: Labs, outcomes, job search, blogs.  \n",
    "I do not feel I have any more blockers. I am caught up in blog posts. I have enough of them done to cover another quiz fail (although I am still studying). I have enough labs done to not need to do any more (although I intend to attempt to complete them). After this evening (or even during this evening) I will acquire my data. I am not worried about it. I have several sources from which I may grab it. Web-scraping is a reach goal if my project is going well and I've time for that level of data munging.   \n",
    "  \n",
    "### Have you done a full EDA on all of your data?  \n",
    "No. Only a cursory look when I attempted a webscrape.  \n",
    "  \n",
    "### Have you begun the modeling process? How accurate are your predictions so far?  \n",
    "Not at all. I am not worried, yet.  \n",
    "  \n",
    "### What blockers are you facing, including processing power, data acquisition, modeling difficulties, data cleaning, etc.? How can we help you overcome those challenges?  \n",
    "Thankfully, my computer is able to handle a decent workload. I have cleared my schedule for everything except this work so I plan to utilize evening tutoring and daily assistance when I need it.  \n",
    "  \n",
    "### Have you changed topics since your lightning talk? Since you submitted your Problem Statement and EDA? If so, do you have the necessary data in hand (and the requisite EDA completed) to continue moving forward?  \n",
    "Yes! I was surprised! But I've already confirmed the data I need exists and that the project is viable. I look forward to it!\n",
    "  \n",
    "### What is your timeline for the next week and a half? What do you have to get done versus what would you like to get done?  \n",
    "I have to get my capstone done and pass one more quiz.  \n",
    "I have to do two more blogs to cover my quizzes. Four if I want to be bolstered against another potential quiz failure.  \n",
    "I have to finish up the final pieces of my resume and outcomes profile. It's only the resume piece about GA and what we've learned that I was waiting on. Given a half hour, I think I can finish it.  \n",
    "I would like to pass the next quiz and my retake.  \n",
    "I would like to finish the last 15% of my labs.  \n",
    "\n",
    "### What topics do you want to discuss during your 1:1?  \n",
    "I don't think I have any at this time. I have a game plan and it's coming along. Maybe a review of the resume update?"
   ]
  },
  {
   "cell_type": "code",
   "execution_count": null,
   "metadata": {},
   "outputs": [],
   "source": []
  }
 ],
 "metadata": {
  "kernelspec": {
   "display_name": "Python 3",
   "language": "python",
   "name": "python3"
  },
  "language_info": {
   "codemirror_mode": {
    "name": "ipython",
    "version": 3
   },
   "file_extension": ".py",
   "mimetype": "text/x-python",
   "name": "python",
   "nbconvert_exporter": "python",
   "pygments_lexer": "ipython3",
   "version": "3.7.0"
  }
 },
 "nbformat": 4,
 "nbformat_minor": 2
}
