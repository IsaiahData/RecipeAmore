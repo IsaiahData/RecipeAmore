{
 "cells": [
  {
   "cell_type": "markdown",
   "metadata": {},
   "source": [
    "# Recipes Amore\n",
    "---\n",
    "What are you in the mood to cook today? \n",
    "Maybe you have a specific craving or even just an ingredient lying around you're trying to use.\n",
    "\n",
    "Thousands of recipes have been collected from allrecipes.com and have been compiled to help. Using this recipe recommender system, all you need to do is enter those ingredients you're in the mood for and then choose something delicious to make from the results!"
   ]
  },
  {
   "cell_type": "code",
   "execution_count": 62,
   "metadata": {},
   "outputs": [],
   "source": [
    "from recipe_scrapers import scrape_me\n",
    "import pandas as pd\n",
    "import numpy as np\n",
    "import time"
   ]
  },
  {
   "cell_type": "code",
   "execution_count": 63,
   "metadata": {},
   "outputs": [],
   "source": [
    "# # Install the package. \n",
    "# # !pip install git+git://github.com/hhursev/recipe-scrapers.git\n",
    "\n",
    "# # To test the scraper, a single scrape is performed. There may be recipes with lower numbers, but this is the lowest yet found.\n",
    "# scraper = scrape_me('https://www.allrecipes.com/recipe/6663/')\n",
    "\n",
    "# # Different methods become available with the scraper modules. To test them, uncomment and run the code on scraper.\n",
    "# # scraper.title()\n",
    "# # scraper.total_time()\n",
    "# # scraper.ingredients()\n",
    "# # scraper.instructions()\n",
    "# # scraper.links()\n",
    "\n",
    "# # To run a scrape across allrecipes.com, a function is needed. \n",
    "# scrape_url_nude = 'https://www.allrecipes.com/recipe/' # a baseline URL for the function\n",
    "# recipe_numbers  = list(range(18661, 300000)) # Recipe numbers.Thusfar, only recipes between 6663 and 18660, inclusive, have been collected. 300000 is an arbitrary endpoint.\n",
    "# len(recipe_numbers) # Checking how many recipes we are attempting to scrape. This is a test, not a function component.\n",
    "# recipe_df_columns = ['Recipe Number', 'Title', 'Total Time', 'Ingredients', 'Instructions'] # Intended columns for the scrape's output dataframe. \n",
    "# recipe_df = pd.DataFrame(columns = recipe_df_columns) # Instantiating the dataframe. \n",
    "\n",
    "# def the_big_scrape(): # a function that starts the scrape. \n",
    "#     for rec in recipe_numbers:\n",
    "#         try: \n",
    "#             scraped = scrape_me(scrape_url_nude+str(rec))\n",
    "#             recipe_df.loc[rec]= [rec, scraped.title(), scraped.total_time(), scraped.ingredients(), scraped.instructions()]\n",
    "# # # The following two lines were intended to skip 404ed pages, but resulted in no scraping taking plac.e. Unsure why. Can clean on the back end. \n",
    "# #             if scrape.title() == 'Bummer.': # 'Bummer.' is the title of URLs which have no recipe, their 404 message. \n",
    "# #                 continue\n",
    "#             if rec % 10 == 0: # saving every time a recipe with a factor of 10 isn't 404. If something goes wrong with the scrape, previous materials are saved. \n",
    "#                 recipe_df.to_csv('./recipe_df3.csv')\n",
    "#         except:\n",
    "#             continue\n",
    "#         time.sleep(1) # scrapes once every three seconds. \n",
    "\n",
    "# the_big_scrape() # runs the scrape"
   ]
  },
  {
   "cell_type": "code",
   "execution_count": 64,
   "metadata": {},
   "outputs": [
    {
     "data": {
      "text/html": [
       "<div>\n",
       "<style scoped>\n",
       "    .dataframe tbody tr th:only-of-type {\n",
       "        vertical-align: middle;\n",
       "    }\n",
       "\n",
       "    .dataframe tbody tr th {\n",
       "        vertical-align: top;\n",
       "    }\n",
       "\n",
       "    .dataframe thead th {\n",
       "        text-align: right;\n",
       "    }\n",
       "</style>\n",
       "<table border=\"1\" class=\"dataframe\">\n",
       "  <thead>\n",
       "    <tr style=\"text-align: right;\">\n",
       "      <th></th>\n",
       "      <th>Unnamed: 0</th>\n",
       "      <th>Recipe Number</th>\n",
       "      <th>Title</th>\n",
       "      <th>Total Time</th>\n",
       "      <th>Ingredients</th>\n",
       "      <th>Instructions</th>\n",
       "    </tr>\n",
       "  </thead>\n",
       "  <tbody>\n",
       "    <tr>\n",
       "      <th>0</th>\n",
       "      <td>0</td>\n",
       "      <td>0</td>\n",
       "      <td>Bummer.</td>\n",
       "      <td>0</td>\n",
       "      <td>[]</td>\n",
       "      <td>NaN</td>\n",
       "    </tr>\n",
       "    <tr>\n",
       "      <th>1</th>\n",
       "      <td>1</td>\n",
       "      <td>1</td>\n",
       "      <td>Bummer.</td>\n",
       "      <td>0</td>\n",
       "      <td>[]</td>\n",
       "      <td>NaN</td>\n",
       "    </tr>\n",
       "    <tr>\n",
       "      <th>2</th>\n",
       "      <td>2</td>\n",
       "      <td>2</td>\n",
       "      <td>Bummer.</td>\n",
       "      <td>0</td>\n",
       "      <td>[]</td>\n",
       "      <td>NaN</td>\n",
       "    </tr>\n",
       "    <tr>\n",
       "      <th>3</th>\n",
       "      <td>3</td>\n",
       "      <td>3</td>\n",
       "      <td>Mexican Strawberry Water (Agua de Fresa)</td>\n",
       "      <td>265</td>\n",
       "      <td>['4 cups strawberries, sliced', '1 cup white s...</td>\n",
       "      <td>NaN</td>\n",
       "    </tr>\n",
       "    <tr>\n",
       "      <th>4</th>\n",
       "      <td>4</td>\n",
       "      <td>4</td>\n",
       "      <td>Bummer.</td>\n",
       "      <td>0</td>\n",
       "      <td>[]</td>\n",
       "      <td>NaN</td>\n",
       "    </tr>\n",
       "  </tbody>\n",
       "</table>\n",
       "</div>"
      ],
      "text/plain": [
       "   Unnamed: 0  Recipe Number                                     Title  \\\n",
       "0           0              0                                   Bummer.   \n",
       "1           1              1                                   Bummer.   \n",
       "2           2              2                                   Bummer.   \n",
       "3           3              3  Mexican Strawberry Water (Agua de Fresa)   \n",
       "4           4              4                                   Bummer.   \n",
       "\n",
       "   Total Time                                        Ingredients Instructions  \n",
       "0           0                                                 []          NaN  \n",
       "1           0                                                 []          NaN  \n",
       "2           0                                                 []          NaN  \n",
       "3         265  ['4 cups strawberries, sliced', '1 cup white s...          NaN  \n",
       "4           0                                                 []          NaN  "
      ]
     },
     "execution_count": 64,
     "metadata": {},
     "output_type": "execute_result"
    }
   ],
   "source": [
    "recipe_df = pd.read_csv('./recipe_df.csv')\n",
    "recipe_df.head(5)"
   ]
  },
  {
   "cell_type": "markdown",
   "metadata": {},
   "source": [
    "### Defining a recipe\n",
    "\n",
    "---\n",
    "Each recipe needs a set of characteristics, stored in variables. These variables will be stored in dictionaries.  \n",
    "More simply, we need a cookbook (a dictionary), in which we have recipes (dictionaries), in which we store variables. \n",
    "\n",
    "The recipe variables are:\n",
    "\n",
    "    Recipe ID: The unique number that appends the recipe url on allrecipes.com (integer)\n",
    "    Title: The name of the recipe (string)\n",
    "    Total time: The number of minutes the recipe should take to prepare and cook. (integer)\n",
    "    Ingredients: The ingredients that go into the recipe. (list of strings)\n",
    "    Instructions: Step-by-step cooking instructions (list)\n",
    "    \n",
    "Sometimes these variables are unideal. Many cooking times are missing. Recipes are user-submitted and this product, Recipe Amore, currently does not take into account ratings."
   ]
  },
  {
   "cell_type": "markdown",
   "metadata": {},
   "source": [
    "<img src=\"https://imgur.com/cfQTzEB.png\" style=\"float: left; margin: 15px; height: 50px\"> \n",
    "#### 'Bummer.'\n",
    " \n",
    "Not every URL has a recipe attached. Many have been removed either by the user or by allrecipes themselves for any number of potential reasons. Allrecipes.com uses this eggy image for their 404 to let you know they don't have a recipe there. Before building the recommender system, it was important to ahve these cleared out so you can better guarantee every recipe you see will be a winner!\n"
   ]
  },
  {
   "cell_type": "code",
   "execution_count": 65,
   "metadata": {},
   "outputs": [
    {
     "name": "stdout",
     "output_type": "stream",
     "text": [
      "<class 'pandas.core.frame.DataFrame'>\n",
      "RangeIndex: 17856 entries, 0 to 17855\n",
      "Data columns (total 6 columns):\n",
      "Unnamed: 0       17856 non-null int64\n",
      "Recipe Number    17856 non-null int64\n",
      "Title            17856 non-null object\n",
      "Total Time       17856 non-null int64\n",
      "Ingredients      17856 non-null object\n",
      "Instructions     12677 non-null object\n",
      "dtypes: int64(3), object(3)\n",
      "memory usage: 837.1+ KB\n"
     ]
    },
    {
     "data": {
      "text/plain": [
       "Unnamed: 0       5178\n",
       "Recipe Number    5178\n",
       "Title            5178\n",
       "Total Time       5178\n",
       "Ingredients      5178\n",
       "Instructions        0\n",
       "dtype: int64"
      ]
     },
     "execution_count": 65,
     "metadata": {},
     "output_type": "execute_result"
    }
   ],
   "source": [
    "# First, check the size of the DataFrame\n",
    "recipe_df.shape # (13456, 6)\n",
    "\n",
    "# In case anything needs changing, it's important to know about the data\n",
    "recipe_df.info()\n",
    "\n",
    "recipe_df.head(3) # Column 'Unnamed: 0' seems to be a copy of the recipe number.\n",
    "(recipe_df['Unnamed: 0'] == recipe_df['Recipe Number']).value_counts() # demonstrates them to be exact copies. 'Unnamed: 0' will need to be removed.\n",
    "\n",
    "# Where 'Bummer.' appears as a title, scraper.title(), the recipe is absent. \n",
    "# Checking how many rows have a title of 'Bummer.'\n",
    "recipe_df.loc[recipe_df['Title'] == 'Bummer.'].count() # 779 rows with the title of 'Bummer.' Those will need to be removed. "
   ]
  },
  {
   "cell_type": "code",
   "execution_count": 66,
   "metadata": {},
   "outputs": [
    {
     "data": {
      "text/html": [
       "<div>\n",
       "<style scoped>\n",
       "    .dataframe tbody tr th:only-of-type {\n",
       "        vertical-align: middle;\n",
       "    }\n",
       "\n",
       "    .dataframe tbody tr th {\n",
       "        vertical-align: top;\n",
       "    }\n",
       "\n",
       "    .dataframe thead th {\n",
       "        text-align: right;\n",
       "    }\n",
       "</style>\n",
       "<table border=\"1\" class=\"dataframe\">\n",
       "  <thead>\n",
       "    <tr style=\"text-align: right;\">\n",
       "      <th></th>\n",
       "      <th>Unnamed: 0</th>\n",
       "      <th>Recipe Number</th>\n",
       "      <th>Title</th>\n",
       "      <th>Total Time</th>\n",
       "      <th>Ingredients</th>\n",
       "      <th>Instructions</th>\n",
       "    </tr>\n",
       "  </thead>\n",
       "  <tbody>\n",
       "    <tr>\n",
       "      <th>0</th>\n",
       "      <td>0</td>\n",
       "      <td>0</td>\n",
       "      <td>Bummer.</td>\n",
       "      <td>0</td>\n",
       "      <td>[]</td>\n",
       "      <td>NaN</td>\n",
       "    </tr>\n",
       "    <tr>\n",
       "      <th>1</th>\n",
       "      <td>1</td>\n",
       "      <td>1</td>\n",
       "      <td>Bummer.</td>\n",
       "      <td>0</td>\n",
       "      <td>[]</td>\n",
       "      <td>NaN</td>\n",
       "    </tr>\n",
       "    <tr>\n",
       "      <th>2</th>\n",
       "      <td>2</td>\n",
       "      <td>2</td>\n",
       "      <td>Bummer.</td>\n",
       "      <td>0</td>\n",
       "      <td>[]</td>\n",
       "      <td>NaN</td>\n",
       "    </tr>\n",
       "  </tbody>\n",
       "</table>\n",
       "</div>"
      ],
      "text/plain": [
       "   Unnamed: 0  Recipe Number    Title  Total Time Ingredients Instructions\n",
       "0           0              0  Bummer.           0          []          NaN\n",
       "1           1              1  Bummer.           0          []          NaN\n",
       "2           2              2  Bummer.           0          []          NaN"
      ]
     },
     "execution_count": 66,
     "metadata": {},
     "output_type": "execute_result"
    }
   ],
   "source": [
    "recipe_df.head(3)"
   ]
  },
  {
   "cell_type": "markdown",
   "metadata": {},
   "source": [
    "### Example recipe\n",
    "The recipes (dictionaries, all), will again, contain the following: \n",
    "\n",
    "    Recipe ID: The unique number that appends the recipe url on allrecipes.com (integer)\n",
    "    Title: The name of the recipe (string)\n",
    "    Total time: The number of minutes the recipe should take to prepare and cook. (integer)\n",
    "    Ingredients: The ingredients that go into the recipe. (list of strings)\n",
    "    Instructions: Step-by-step cooking instructions (list)"
   ]
  },
  {
   "cell_type": "code",
   "execution_count": 67,
   "metadata": {},
   "outputs": [],
   "source": [
    "recipe_ex = {\n",
    "    'Recipe ID': 1,\n",
    "    'Recipe Name': \"Charlie's Best Bunt Cakes\",\n",
    "    'Total Time (min)': 90,\n",
    "    'Ingredients': [],\n",
    "    'Instructions': []\n",
    "}"
   ]
  },
  {
   "cell_type": "markdown",
   "metadata": {},
   "source": [
    "### Creating a Cookbook, the dictionary to house recipes\n",
    "The recipes need to be stored. \n",
    "The keys of this dictionary will be the `Recipe ID`, which will also be present in the dictionary. A necessary redundancy. "
   ]
  },
  {
   "cell_type": "code",
   "execution_count": 68,
   "metadata": {},
   "outputs": [
    {
     "data": {
      "text/plain": [
       "{1: {'Recipe ID': 1,\n",
       "  'Recipe Name': \"Charlie's Best Bunt Cakes\",\n",
       "  'Total Time (min)': 90,\n",
       "  'Ingredients': [],\n",
       "  'Instructions': []}}"
      ]
     },
     "metadata": {},
     "output_type": "display_data"
    }
   ],
   "source": [
    "cookbook_ex = {recipe_ex['Recipe ID']: recipe_ex}\n",
    "display(cookbook_ex)"
   ]
  },
  {
   "cell_type": "code",
   "execution_count": 72,
   "metadata": {},
   "outputs": [
    {
     "data": {
      "text/plain": [
       "{1: {'Recipe ID': 1,\n",
       "  'Recipe Name': \"Isaiah's Best Bunt Cakes\",\n",
       "  'Total Time (min)': 90,\n",
       "  'Ingredients': [],\n",
       "  'Instructions': []}}"
      ]
     },
     "metadata": {},
     "output_type": "display_data"
    }
   ],
   "source": [
    "### We can manipulate the recipe if we want!\n",
    "cookbook_ex[1]['Recipe Name'] = \"Isaiah's Best Bunt Cakes\"\n",
    "display(cookbook_ex)"
   ]
  },
  {
   "cell_type": "code",
   "execution_count": 70,
   "metadata": {},
   "outputs": [],
   "source": [
    "### Creating a function that adds a recipe to the cookbook\n",
    "def add_recipe(cookbook, recipe_id, recipe_name, total_time, ingredients, instructions):\n",
    "    cookbook[recipe_id] = {\n",
    "        'Recipe ID': recipe_id,\n",
    "        'Recipe Name': recipe_name,\n",
    "        'Total Time (min)': total_time,\n",
    "        'Ingredients': ingredients,\n",
    "        'Instructions': instructions\n",
    "    }"
   ]
  },
  {
   "cell_type": "code",
   "execution_count": 76,
   "metadata": {},
   "outputs": [],
   "source": [
    "recipe_df.drop(columns=['Unnamed: 0'], inplace=True)"
   ]
  },
  {
   "cell_type": "code",
   "execution_count": null,
   "metadata": {},
   "outputs": [],
   "source": []
  },
  {
   "cell_type": "code",
   "execution_count": 74,
   "metadata": {},
   "outputs": [],
   "source": [
    "recipe_df.set_index('Recipe Number', drop=False, inplace=True)"
   ]
  },
  {
   "cell_type": "raw",
   "metadata": {},
   "source": [
    ">>> df = pd.DataFrame({'col1': [1, 2],\n",
    "...                    'col2': [0.5, 0.75]},\n",
    "...                   index=['a', 'b'])\n",
    ">>> df\n",
    "   col1  col2\n",
    "a     1   0.50\n",
    "b     2   0.75\n",
    ">>> df.to_dict()\n",
    "{'col1': {'a': 1, 'b': 2}, 'col2': {'a': 0.5, 'b': 0.75}}"
   ]
  },
  {
   "cell_type": "raw",
   "metadata": {},
   "source": [
    "df.to_dict('index')\n",
    "{'a': {'col1': 1.0, 'col2': 0.5}, 'b': {'col1': 2.0, 'col2': 0.75}}"
   ]
  },
  {
   "cell_type": "code",
   "execution_count": null,
   "metadata": {},
   "outputs": [],
   "source": [
    "# Webscrape one by one using the webscraper \n",
    "# I need to drop the scraped information into a database\n",
    "\n",
    "# 1 Scrape + Apply info to scraper object. \n",
    "\n",
    "# 2 Append dataframe with scraper.title, scraper.total_time(), and scraper.ingredients()\n",
    "\n",
    "# 3 Scrape next page, repeat steps 2 and 3 for x iterations. Make  sure it skips over pages with no recipe. \n",
    "\n",
    "# Apply phrase tagger"
   ]
  },
  {
   "cell_type": "code",
   "execution_count": null,
   "metadata": {},
   "outputs": [],
   "source": [
    "for x in y:\n",
    "    x do code:\n",
    "        \n",
    "    "
   ]
  }
 ],
 "metadata": {
  "kernelspec": {
   "display_name": "Python 3",
   "language": "python",
   "name": "python3"
  },
  "language_info": {
   "codemirror_mode": {
    "name": "ipython",
    "version": 3
   },
   "file_extension": ".py",
   "mimetype": "text/x-python",
   "name": "python",
   "nbconvert_exporter": "python",
   "pygments_lexer": "ipython3",
   "version": "3.7.0"
  }
 },
 "nbformat": 4,
 "nbformat_minor": 2
}
