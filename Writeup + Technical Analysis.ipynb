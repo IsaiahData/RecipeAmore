{
 "cells": [
  {
   "cell_type": "markdown",
   "metadata": {},
   "source": [
    "By now, you're ready to apply your modeling skills to make machine learning predictions. Your goal for Part 4 is to develop a technical document (in the form of Jupyter notebook) that can be shared among your peers.\n",
    "\n",
    "Document your research and analysis including a summary, an explanation of your modeling approach as well as the strengths and weaknesses of any variables in the process. You should provide insight into your analysis, using best practices like cross validation or applicable prediction metrics.\n",
    "\n",
    "Goal: Detailed report and code with a summary of your statistical analysis, model, and evaluation metrics.\n",
    "Due: Oct 18, 2018"
   ]
  },
  {
   "cell_type": "markdown",
   "metadata": {},
   "source": [
    "# Recipe Amore"
   ]
  },
  {
   "cell_type": "markdown",
   "metadata": {},
   "source": [
    "## Recap\n",
    "---\n",
    "Goal 1: To create an interactive cookbook  \n",
    "  \n",
    "Using a wealth of recipes, create an a product that displays recipes containing user-entered ingredients whether it's the food in the fridge about to bad or an adventurous combination  \n",
    "  \n",
    "  \n",
    "Goal 2: Create a recommendation system based on individual user ratings that can help users find recipes they might enjoy based on the taste of other users, whether similar (for food they are likely to enjoy) or dissimilar (for days they're feeling particularly adventurous)\n",
    "\n",
    "Stretch Goal: Make it interactive\n",
    "\n",
    "---"
   ]
  },
  {
   "cell_type": "markdown",
   "metadata": {},
   "source": [
    "## Approach\n",
    "---\n",
    "Initial steps were misguided, but provided a bit of code retained for later use.  \n",
    "  \n",
    "#### Idea:   \n",
    "A dictionary of dictionaries.  \n",
    "  \n",
    "#### Logic:\n",
    "Each recipe needs a set of characteristics, stored in variables. These variables will be stored in dictionaries.  \n",
    "More simply, we need a cookbook (a dictionary), in which we have recipes (dictionaries), in which we store variables. \n",
    "\n",
    "The recipe variables are:\n",
    "\n",
    "    Recipe ID: The unique number that appends the recipe url on allrecipes.com (integer)\n",
    "    Title: The name of the recipe (string)\n",
    "    Total time: The number of minutes the recipe should take to prepare and cook. (integer)\n",
    "    Ingredients: The ingredients that go into the recipe. (list of strings)\n",
    "    Instructions: Step-by-step cooking instructions (list)\n",
    "    Rating: The average rating left by users\n",
    "    Number of ratings: The number of ratings left by users. \n",
    "    \n",
    "#### Data problems:  \n",
    "\n",
    "Initial scraping was done using a python package made by github user hhursev. This scraper only pulled in the initial 5 recipe variables: Recipe ID, Title, Total time, Ingredients, Instructions, and a variable called 'Links'. To create a recommender system or produce recipes by rating, the Rating and Number of ratings were needed. \n",
    "\n",
    "Because allrecipes recipe URLs are differentiated by the Recipe ID, \"http://www.allrecipes.com/recipe/{RecipeID}\", and many integers have no recipe (likely, they were deleted), there was a lot of empty cells in the resultant pandas DataFrame. \n",
    "\n",
    "To get Ratings and Number of ratings, a scraper had to be designed. To skip the aforementioned 404 potential recipe URLs, steps were taken: The initial pandas DataFrame had all 404 rows removed and the Recipe ID column's values were turned to a list whose values were used, instead of a range, to choose which URLs to scrape. \n",
    "\n",
    "For some reason this scraper would occasionally assign values of zero to both of these variables for recipes whose values for these variables were not zero, as confirmed by checking several of such null-value-rating recipes' URLs.\n",
    "\n",
    "Recipes are user-submitted which results in many missing cooking times because the user didn't add a cook time value)\n",
    "Unknown cause, but a significant number of ratings and number of ratings are missing (always together). This likely occurred during the scrape."
   ]
  },
  {
   "cell_type": "markdown",
   "metadata": {},
   "source": []
  }
 ],
 "metadata": {
  "kernelspec": {
   "display_name": "Python 3",
   "language": "python",
   "name": "python3"
  },
  "language_info": {
   "codemirror_mode": {
    "name": "ipython",
    "version": 3
   },
   "file_extension": ".py",
   "mimetype": "text/x-python",
   "name": "python",
   "nbconvert_exporter": "python",
   "pygments_lexer": "ipython3",
   "version": "3.7.0"
  }
 },
 "nbformat": 4,
 "nbformat_minor": 2
}
